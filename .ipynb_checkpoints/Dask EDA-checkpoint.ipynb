{
 "cells": [
  {
   "cell_type": "code",
   "execution_count": null,
   "id": "372a7d26",
   "metadata": {},
   "outputs": [],
   "source": []
  },
  {
   "cell_type": "code",
   "execution_count": 10,
   "id": "bbec6f06",
   "metadata": {},
   "outputs": [
    {
     "name": "stdout",
     "output_type": "stream",
     "text": [
      "   Sold Date  Sold Time   Item  Store  Quantity  Net Paid  Inc Tax\n",
      "0  2451813.0    65495.0  44771   88.0      79.0    121.66   127.74\n",
      "1  2451813.0    65495.0  12865   88.0      37.0   1488.36  1547.89\n",
      "2  2451813.0    65495.0  21799   88.0      99.0   8314.02  8314.02\n",
      "3  2451813.0    65495.0  38323   88.0      14.0     85.40    85.40\n",
      "4  2451813.0    65495.0  33829   88.0     100.0     73.00    79.57\n",
      "5  2451813.0    65495.0  25130   88.0      91.0   8484.84  8739.38\n",
      "6  2451813.0    65495.0  39611   88.0       5.0     33.40    35.73\n",
      "7  2451813.0    65495.0  34327   88.0      72.0   4428.00  4605.12\n",
      "8  2451813.0    65495.0   1957   88.0      14.0      0.00     0.00\n",
      "9  2451813.0    65495.0  46037   88.0      58.0    204.16   204.16\n"
     ]
    }
   ],
   "source": [
    "import matplotlib.pyplot as plt \n",
    "import numpy as np\n",
    "import pandas as pd\n",
    "import dask.dataframe as dd\n",
    "import dask.array as da\n",
    "import dask.bag as db\n",
    "import missingno as mn\n",
    "\n",
    "\n",
    "#Read CSV\n",
    "store_sales_cols = [0, 1, 2, 7, 10, 20, 21]\n",
    "store_sales_header_list = [\"Sold Date\", \"Sold Time\", \"Item\",\"Store\",\"Quantity\",\"Net Paid\",\"Inc Tax\"]\n",
    "df_store_sales = dd.read_csv(\"/dcs/cs346/tpcds/40G/store_sales.dat\",\n",
    "                             sep = '|',\n",
    "                             names = store_sales_header_list,\n",
    "                             usecols = store_sales_cols)\n",
    "print(df_store_sales.head(10))\n",
    "\n"
   ]
  },
  {
   "cell_type": "code",
   "execution_count": 12,
   "id": "fc221d55",
   "metadata": {},
   "outputs": [
    {
     "name": "stdout",
     "output_type": "stream",
     "text": [
      "------------------------\n",
      "Shape of the dataset:\n",
      "(Delayed('int-95f7e9c5-b5a2-45af-b593-b5143f063727'), 7)\n",
      "------------------------\n",
      "Data types of the dataset: \n",
      "<class 'dask.dataframe.core.DataFrame'>\n",
      "Columns: 7 entries, Sold Date to Inc Tax\n",
      "dtypes: float64(6), int64(1)None\n",
      "------------------------\n",
      "Describle the dataset\n",
      "Min value of the dataset\n",
      "Dask Series Structure:\n",
      "npartitions=1\n",
      "Inc Tax    float64\n",
      "Store          ...\n",
      "dtype: float64\n",
      "Dask Name: dataframe-min-agg, 503 tasks\n",
      "Max value of the dataset\n",
      "Dask Series Structure:\n",
      "npartitions=1\n",
      "Inc Tax    float64\n",
      "Store          ...\n",
      "dtype: float64\n",
      "Dask Name: dataframe-max-agg, 503 tasks\n",
      "Mean value of the dataset\n",
      "Dask Series Structure:\n",
      "npartitions=1\n",
      "Inc Tax    float64\n",
      "Store          ...\n",
      "dtype: float64\n",
      "Dask Name: dataframe-mean, 756 tasks\n",
      "Std of the dataset\n",
      "Dask Series Structure:\n",
      "npartitions=1\n",
      "Inc Tax    float64\n",
      "Store          ...\n",
      "dtype: float64\n",
      "Dask Name: dataframe-std, 1090 tasks\n",
      "------------------------\n"
     ]
    }
   ],
   "source": [
    "\n",
    "print('------------------------')\n",
    "print('Shape of the dataset:')\n",
    "print(df_store_sales.shape)\n",
    "\n",
    "print('------------------------')\n",
    "print('Data types of the dataset: ')\n",
    "print(df_store_sales.info())\n",
    "\n",
    "\n",
    "print('------------------------')\n",
    "print('Describle the dataset')\n",
    "df_store_sales.describe().to_csv(\"store_sales_describe.csv\", index=False)\n",
    "print('Min value of the dataset')\n",
    "print(df_store_sales.min())\n",
    "print('Max value of the dataset')\n",
    "print(df_store_sales.max())\n",
    "print('Mean value of the dataset')\n",
    "print(df_store_sales.mean())\n",
    "print('Std of the dataset')\n",
    "print(df_store_sales.std())\n",
    "print('------------------------')"
   ]
  },
  {
   "cell_type": "code",
   "execution_count": null,
   "id": "d5dbe9db",
   "metadata": {},
   "outputs": [],
   "source": []
  },
  {
   "cell_type": "code",
   "execution_count": null,
   "id": "c3e5f7bc",
   "metadata": {},
   "outputs": [],
   "source": []
  }
 ],
 "metadata": {
  "kernelspec": {
   "display_name": "Python 3",
   "language": "python",
   "name": "python3"
  },
  "language_info": {
   "codemirror_mode": {
    "name": "ipython",
    "version": 3
   },
   "file_extension": ".py",
   "mimetype": "text/x-python",
   "name": "python",
   "nbconvert_exporter": "python",
   "pygments_lexer": "ipython3",
   "version": "3.6.8"
  }
 },
 "nbformat": 4,
 "nbformat_minor": 5
}
